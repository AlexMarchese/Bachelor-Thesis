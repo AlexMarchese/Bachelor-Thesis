{
 "cells": [
  {
   "attachments": {},
   "cell_type": "markdown",
   "metadata": {},
   "source": [
    "# Reading Bern reports singularily"
   ]
  },
  {
   "attachments": {},
   "cell_type": "markdown",
   "metadata": {},
   "source": [
    "## 1. Some reports are not read by PyPDF2 reader"
   ]
  },
  {
   "attachments": {},
   "cell_type": "markdown",
   "metadata": {},
   "source": [
    "#### Let's try to read them singularily. These are 2016, 2018, 2019, 2021"
   ]
  },
  {
   "cell_type": "code",
   "execution_count": 1,
   "metadata": {},
   "outputs": [],
   "source": [
    "from tabula import read_pdf\n",
    "import pandas as pd\n",
    "from PyPDF2 import PdfReader, PdfWriter\n",
    "import numpy as np\n"
   ]
  },
  {
   "cell_type": "code",
   "execution_count": 2,
   "metadata": {},
   "outputs": [
    {
     "name": "stderr",
     "output_type": "stream",
     "text": [
      "ignore '/Perms' verify failed\n"
     ]
    }
   ],
   "source": [
    "reader = PdfReader(\"not_read\\\\2019.pdf\") # error fixed by installing \"pip install pycryptodome\""
   ]
  },
  {
   "attachments": {},
   "cell_type": "markdown",
   "metadata": {},
   "source": [
    "#### I was pointed to this command through this source: https://stackoverflow.com/questions/73701005/pypdf2-error-pycryptodome-is-required-for-aes-algorithm"
   ]
  },
  {
   "cell_type": "code",
   "execution_count": 3,
   "metadata": {},
   "outputs": [
    {
     "name": "stdout",
     "output_type": "stream",
     "text": [
      "311\n",
      "Stadt Bern\n",
      "19Jahresbericht 2019\n",
      "Jahresrechnung\n",
      "Band 1\n",
      "Stadt Bern\n",
      "Erlacherhof\n",
      "Junkerngasse 47Postfach3000 Bern 8\n",
      "T\n",
      " 031 321 62 1\n",
      "0\n",
      "E\n",
      " \n",
      "stadtkanzlei@bern.ch\n",
      "www.bern.ch\n"
     ]
    }
   ],
   "source": [
    "number_of_pages = len(reader.pages)\n",
    "page_ihv = 0\n",
    "\n",
    "print(number_of_pages)\n",
    "\n",
    "for page_number in range(2): # number_of_pages\n",
    "    page = reader.pages[page_number]\n",
    "    text = page.extract_text()\n",
    "    print(text)\n"
   ]
  },
  {
   "cell_type": "code",
   "execution_count": 4,
   "metadata": {},
   "outputs": [
    {
     "data": {
      "text/plain": [
       "'Stadt Bern\\n19Jahresbericht 2019\\nJahresrechnung\\nBand 1'"
      ]
     },
     "execution_count": 4,
     "metadata": {},
     "output_type": "execute_result"
    }
   ],
   "source": [
    "reader.pages[0].extract_text()"
   ]
  },
  {
   "attachments": {},
   "cell_type": "markdown",
   "metadata": {},
   "source": [
    "#### File can be read, let's jump back to bern_page_selector.py"
   ]
  },
  {
   "attachments": {},
   "cell_type": "markdown",
   "metadata": {},
   "source": [
    "## 2. The following code is needed to determine at which coordinates the reports from Bern need to be cut (2005 Bern is used as a base case)"
   ]
  },
  {
   "cell_type": "code",
   "execution_count": 5,
   "metadata": {},
   "outputs": [],
   "source": [
    "reader = PdfReader(\"reduced reports\\\\reduced 2005.pdf\", \"r\")\n",
    "page = reader.pages[1]"
   ]
  },
  {
   "cell_type": "code",
   "execution_count": 6,
   "metadata": {},
   "outputs": [
    {
     "name": "stdout",
     "output_type": "stream",
     "text": [
      "RectangleObject([0, 0, 595.22, 842])\n"
     ]
    }
   ],
   "source": [
    "print(page.mediabox) "
   ]
  },
  {
   "cell_type": "code",
   "execution_count": 7,
   "metadata": {},
   "outputs": [],
   "source": [
    "writer = PdfWriter()"
   ]
  },
  {
   "cell_type": "code",
   "execution_count": 8,
   "metadata": {},
   "outputs": [],
   "source": [
    "for page in range(len(reader.pages)):\n",
    "    single_page = reader.pages[page]\n",
    "    single_page.mediabox.lower_left = 30, 46\n",
    "    single_page.mediabox.upper_right = 567, 775\n",
    "    writer.add_page(single_page)"
   ]
  },
  {
   "cell_type": "code",
   "execution_count": 9,
   "metadata": {},
   "outputs": [],
   "source": [
    "export = open('2005 Bern cropped.pdf', 'wb')\n",
    "writer.write(export)\n",
    "export.close()"
   ]
  },
  {
   "attachments": {},
   "cell_type": "markdown",
   "metadata": {},
   "source": [
    "#### The base case coordinates are the following. These values can now be included (hardcoded) in the bern_data_extraction.py file"
   ]
  },
  {
   "cell_type": "code",
   "execution_count": 10,
   "metadata": {},
   "outputs": [],
   "source": [
    "(LL_x_base, LL_y_base) = (0, 0)\n",
    "(UR_x_base, UR_y_base) = (595.22, 842)"
   ]
  },
  {
   "attachments": {},
   "cell_type": "markdown",
   "metadata": {},
   "source": [
    "## 3. Now, we read the report with Tabula"
   ]
  },
  {
   "cell_type": "code",
   "execution_count": 11,
   "metadata": {},
   "outputs": [],
   "source": [
    "df_tabula = read_pdf(\"cut reports\\\\cut reduced 2005.pdf\", pages=\"all\")"
   ]
  },
  {
   "cell_type": "code",
   "execution_count": 12,
   "metadata": {},
   "outputs": [
    {
     "name": "stdout",
     "output_type": "stream",
     "text": [
      "                             Nettoergebnis            0.00          0.00.1   \n",
      "0                            Total Aufwand  881'200'987.48  896'918'778.28  \\\n",
      "1                       30 Personalaufwand  287'409'820.07  289'731'702.86   \n",
      "2   300 Personalaufw.Behörden/Kommissionen    2'151'979.60    2'220'426.54   \n",
      "3  301 Löhne Verwaltungs-/Betriebspersonal  233'559'984.28  236'494'605.65   \n",
      "4                 302 Löhne der Lehrkräfte       38'415.85        5'000.00   \n",
      "\n",
      "           0.00.2  \n",
      "0  868'458'439.71  \n",
      "1  276'038'513.98  \n",
      "2    2'930'023.80  \n",
      "3  224'251'160.52  \n",
      "4       26'819.35  \n",
      "                  37 Durchlaufende Beiträge  5'286'123.05  6'649'800.00   \n",
      "0               371 Durchl. Beiträge Kanton  3'639'700.00  5'000'000.00  \\\n",
      "1  372 Durchl. Beiträge Gemeinden/-verbände     73'130.00    105'000.00   \n",
      "2        375 Durchl. Beiträge private Inst.    960'000.00    952'800.00   \n",
      "3    376 Durchl. Beiträge private Haushalte    613'293.05    592'000.00   \n",
      "4      38 Einlagen in Spezialfinanzierungen  3'717'673.91  2'847'767.00   \n",
      "\n",
      "   6'196'914.12  \n",
      "0  4'601'645.32  \n",
      "1     75'497.00  \n",
      "2    952'800.00  \n",
      "3    566'971.80  \n",
      "4  6'822'923.81  \n",
      "        45 Rückerstattungen von Gemeinwesen  -189'857'517.73  -190'608'642.55   \n",
      "0                 450 Rückerstattungen Bund   -13'870'076.63   -14'127'000.00  \\\n",
      "1               451 Rückerstattungen Kanton  -175'394'689.90  -175'927'402.55   \n",
      "2  452 Rückerstattungen Gemeinden/-verbände      -592'751.20      -554'240.00   \n",
      "3                               46 Beiträge   -52'093'080.66   -45'209'483.80   \n",
      "4                         460 Beiträge Bund    -4'103'750.00    -3'812'000.00   \n",
      "\n",
      "   -176'131'111.17  \n",
      "0   -13'779'854.13  \n",
      "1  -161'667'407.84  \n",
      "2      -683'849.20  \n",
      "3   -46'226'480.77  \n",
      "4    -3'677'910.20  \n",
      "Index(['Nettoergebnis', '0.00', '0.00.1', '0.00.2'], dtype='object')\n"
     ]
    }
   ],
   "source": [
    "# lets analyze two single dfs\n",
    "print(df_tabula[0].head())\n",
    "print(df_tabula[1].head())\n",
    "print(df_tabula[2].head())\n",
    "\n",
    "# no matter which of the 3 DFs we take, we need to fix the headings\n",
    "print(df_tabula[0].columns)"
   ]
  },
  {
   "attachments": {},
   "cell_type": "markdown",
   "metadata": {},
   "source": [
    "#### The first row of every PDFs is taken as heading data. It needs to go down and become the row.\n",
    "\n",
    "#### The heading is always \"Type\", \"Rechnung {year of report}\", \"Budget {year of report}\", \"Rechnung {year of report - 1}\""
   ]
  },
  {
   "cell_type": "code",
   "execution_count": 13,
   "metadata": {},
   "outputs": [],
   "source": [
    "df_1 = df_tabula[0].copy()"
   ]
  },
  {
   "cell_type": "code",
   "execution_count": 14,
   "metadata": {},
   "outputs": [],
   "source": [
    "# Copying the header to the first row\n",
    "df_1.iloc[0] = df_1.columns"
   ]
  },
  {
   "cell_type": "code",
   "execution_count": 15,
   "metadata": {},
   "outputs": [],
   "source": [
    "year = int(\"2005\")  # variable of the year, now it is hardcoded but will be extracted from the file name (in the python bern_data_extraction script)"
   ]
  },
  {
   "cell_type": "code",
   "execution_count": 16,
   "metadata": {},
   "outputs": [],
   "source": [
    "columns = [f\"Type\", f\"Rechnung {year}\", f\"Budget {year}\", f\"Rechnung {year - 1}\"]   # new columns"
   ]
  },
  {
   "cell_type": "code",
   "execution_count": 17,
   "metadata": {},
   "outputs": [],
   "source": [
    "# setting the first row\n",
    "\n",
    "df_1.columns = columns"
   ]
  },
  {
   "attachments": {},
   "cell_type": "markdown",
   "metadata": {},
   "source": [
    "#### Now that it worked for one page, let's do it for all of them"
   ]
  },
  {
   "cell_type": "code",
   "execution_count": 18,
   "metadata": {},
   "outputs": [],
   "source": [
    "for single_df in df_tabula:\n",
    "    single_df.iloc[0] = single_df.columns\n",
    "    single_df.columns = columns"
   ]
  },
  {
   "cell_type": "code",
   "execution_count": 19,
   "metadata": {},
   "outputs": [],
   "source": [
    "# concatenating the DFs\n",
    "\n",
    "df = pd.concat(df_tabula)"
   ]
  },
  {
   "cell_type": "code",
   "execution_count": 20,
   "metadata": {},
   "outputs": [
    {
     "data": {
      "text/html": [
       "<div>\n",
       "<style scoped>\n",
       "    .dataframe tbody tr th:only-of-type {\n",
       "        vertical-align: middle;\n",
       "    }\n",
       "\n",
       "    .dataframe tbody tr th {\n",
       "        vertical-align: top;\n",
       "    }\n",
       "\n",
       "    .dataframe thead th {\n",
       "        text-align: right;\n",
       "    }\n",
       "</style>\n",
       "<table border=\"1\" class=\"dataframe\">\n",
       "  <thead>\n",
       "    <tr style=\"text-align: right;\">\n",
       "      <th></th>\n",
       "      <th>Type</th>\n",
       "      <th>Rechnung 2005</th>\n",
       "      <th>Budget 2005</th>\n",
       "      <th>Rechnung 2004</th>\n",
       "    </tr>\n",
       "  </thead>\n",
       "  <tbody>\n",
       "    <tr>\n",
       "      <th>0</th>\n",
       "      <td>Nettoergebnis</td>\n",
       "      <td>0.00</td>\n",
       "      <td>0.00.1</td>\n",
       "      <td>0.00.2</td>\n",
       "    </tr>\n",
       "    <tr>\n",
       "      <th>1</th>\n",
       "      <td>30 Personalaufwand</td>\n",
       "      <td>287'409'820.07</td>\n",
       "      <td>289'731'702.86</td>\n",
       "      <td>276'038'513.98</td>\n",
       "    </tr>\n",
       "    <tr>\n",
       "      <th>2</th>\n",
       "      <td>300 Personalaufw.Behörden/Kommissionen</td>\n",
       "      <td>2'151'979.60</td>\n",
       "      <td>2'220'426.54</td>\n",
       "      <td>2'930'023.80</td>\n",
       "    </tr>\n",
       "    <tr>\n",
       "      <th>3</th>\n",
       "      <td>301 Löhne Verwaltungs-/Betriebspersonal</td>\n",
       "      <td>233'559'984.28</td>\n",
       "      <td>236'494'605.65</td>\n",
       "      <td>224'251'160.52</td>\n",
       "    </tr>\n",
       "    <tr>\n",
       "      <th>4</th>\n",
       "      <td>302 Löhne der Lehrkräfte</td>\n",
       "      <td>38'415.85</td>\n",
       "      <td>5'000.00</td>\n",
       "      <td>26'819.35</td>\n",
       "    </tr>\n",
       "    <tr>\n",
       "      <th>...</th>\n",
       "      <td>...</td>\n",
       "      <td>...</td>\n",
       "      <td>...</td>\n",
       "      <td>...</td>\n",
       "    </tr>\n",
       "    <tr>\n",
       "      <th>97</th>\n",
       "      <td>480 Entnahmen aus Spezialfinanzierungen</td>\n",
       "      <td>-5'235'151.80</td>\n",
       "      <td>-324'645.28</td>\n",
       "      <td>-915'201.00</td>\n",
       "    </tr>\n",
       "    <tr>\n",
       "      <th>98</th>\n",
       "      <td>49 Interne Verrechnungen</td>\n",
       "      <td>-45'424'876.78</td>\n",
       "      <td>-44'176'538.96</td>\n",
       "      <td>-40'839'106.34</td>\n",
       "    </tr>\n",
       "    <tr>\n",
       "      <th>99</th>\n",
       "      <td>490 Intern verrechneter Aufwand</td>\n",
       "      <td>-31'658'822.28</td>\n",
       "      <td>-30'094'572.96</td>\n",
       "      <td>-27'052'171.14</td>\n",
       "    </tr>\n",
       "    <tr>\n",
       "      <th>100</th>\n",
       "      <td>491 Intern verrechnete Passivzinsen</td>\n",
       "      <td>-9'966'889.52</td>\n",
       "      <td>-10'291'653.00</td>\n",
       "      <td>-10'158'499.20</td>\n",
       "    </tr>\n",
       "    <tr>\n",
       "      <th>101</th>\n",
       "      <td>492 Intern verrechnete Abschreibungen</td>\n",
       "      <td>-3'799'164.98</td>\n",
       "      <td>-3'790'313.00</td>\n",
       "      <td>-3'628'436.00</td>\n",
       "    </tr>\n",
       "  </tbody>\n",
       "</table>\n",
       "<p>102 rows × 4 columns</p>\n",
       "</div>"
      ],
      "text/plain": [
       "                                        Type   Rechnung 2005     Budget 2005   \n",
       "0                              Nettoergebnis            0.00          0.00.1  \\\n",
       "1                         30 Personalaufwand  287'409'820.07  289'731'702.86   \n",
       "2     300 Personalaufw.Behörden/Kommissionen    2'151'979.60    2'220'426.54   \n",
       "3    301 Löhne Verwaltungs-/Betriebspersonal  233'559'984.28  236'494'605.65   \n",
       "4                   302 Löhne der Lehrkräfte       38'415.85        5'000.00   \n",
       "..                                       ...             ...             ...   \n",
       "97   480 Entnahmen aus Spezialfinanzierungen   -5'235'151.80     -324'645.28   \n",
       "98                  49 Interne Verrechnungen  -45'424'876.78  -44'176'538.96   \n",
       "99           490 Intern verrechneter Aufwand  -31'658'822.28  -30'094'572.96   \n",
       "100      491 Intern verrechnete Passivzinsen   -9'966'889.52  -10'291'653.00   \n",
       "101    492 Intern verrechnete Abschreibungen   -3'799'164.98   -3'790'313.00   \n",
       "\n",
       "      Rechnung 2004  \n",
       "0            0.00.2  \n",
       "1    276'038'513.98  \n",
       "2      2'930'023.80  \n",
       "3    224'251'160.52  \n",
       "4         26'819.35  \n",
       "..              ...  \n",
       "97      -915'201.00  \n",
       "98   -40'839'106.34  \n",
       "99   -27'052'171.14  \n",
       "100  -10'158'499.20  \n",
       "101   -3'628'436.00  \n",
       "\n",
       "[102 rows x 4 columns]"
      ]
     },
     "execution_count": 20,
     "metadata": {},
     "output_type": "execute_result"
    }
   ],
   "source": [
    "df.reset_index(drop=True)"
   ]
  },
  {
   "cell_type": "code",
   "execution_count": 21,
   "metadata": {},
   "outputs": [
    {
     "data": {
      "text/html": [
       "<div>\n",
       "<style scoped>\n",
       "    .dataframe tbody tr th:only-of-type {\n",
       "        vertical-align: middle;\n",
       "    }\n",
       "\n",
       "    .dataframe tbody tr th {\n",
       "        vertical-align: top;\n",
       "    }\n",
       "\n",
       "    .dataframe thead th {\n",
       "        text-align: right;\n",
       "    }\n",
       "</style>\n",
       "<table border=\"1\" class=\"dataframe\">\n",
       "  <thead>\n",
       "    <tr style=\"text-align: right;\">\n",
       "      <th></th>\n",
       "      <th>Type</th>\n",
       "      <th>Rechnung 2005</th>\n",
       "      <th>Budget 2005</th>\n",
       "      <th>Rechnung 2004</th>\n",
       "    </tr>\n",
       "  </thead>\n",
       "  <tbody>\n",
       "    <tr>\n",
       "      <th>0</th>\n",
       "      <td>Nettoergebnis</td>\n",
       "      <td>0.00</td>\n",
       "      <td>0.00.1</td>\n",
       "      <td>0.00.2</td>\n",
       "    </tr>\n",
       "    <tr>\n",
       "      <th>1</th>\n",
       "      <td>30 Personalaufwand</td>\n",
       "      <td>287'409'820.07</td>\n",
       "      <td>289'731'702.86</td>\n",
       "      <td>276'038'513.98</td>\n",
       "    </tr>\n",
       "    <tr>\n",
       "      <th>2</th>\n",
       "      <td>300 Personalaufw.Behörden/Kommissionen</td>\n",
       "      <td>2'151'979.60</td>\n",
       "      <td>2'220'426.54</td>\n",
       "      <td>2'930'023.80</td>\n",
       "    </tr>\n",
       "    <tr>\n",
       "      <th>3</th>\n",
       "      <td>301 Löhne Verwaltungs-/Betriebspersonal</td>\n",
       "      <td>233'559'984.28</td>\n",
       "      <td>236'494'605.65</td>\n",
       "      <td>224'251'160.52</td>\n",
       "    </tr>\n",
       "    <tr>\n",
       "      <th>4</th>\n",
       "      <td>302 Löhne der Lehrkräfte</td>\n",
       "      <td>38'415.85</td>\n",
       "      <td>5'000.00</td>\n",
       "      <td>26'819.35</td>\n",
       "    </tr>\n",
       "    <tr>\n",
       "      <th>...</th>\n",
       "      <td>...</td>\n",
       "      <td>...</td>\n",
       "      <td>...</td>\n",
       "      <td>...</td>\n",
       "    </tr>\n",
       "    <tr>\n",
       "      <th>14</th>\n",
       "      <td>480 Entnahmen aus Spezialfinanzierungen</td>\n",
       "      <td>-5'235'151.80</td>\n",
       "      <td>-324'645.28</td>\n",
       "      <td>-915'201.00</td>\n",
       "    </tr>\n",
       "    <tr>\n",
       "      <th>15</th>\n",
       "      <td>49 Interne Verrechnungen</td>\n",
       "      <td>-45'424'876.78</td>\n",
       "      <td>-44'176'538.96</td>\n",
       "      <td>-40'839'106.34</td>\n",
       "    </tr>\n",
       "    <tr>\n",
       "      <th>16</th>\n",
       "      <td>490 Intern verrechneter Aufwand</td>\n",
       "      <td>-31'658'822.28</td>\n",
       "      <td>-30'094'572.96</td>\n",
       "      <td>-27'052'171.14</td>\n",
       "    </tr>\n",
       "    <tr>\n",
       "      <th>17</th>\n",
       "      <td>491 Intern verrechnete Passivzinsen</td>\n",
       "      <td>-9'966'889.52</td>\n",
       "      <td>-10'291'653.00</td>\n",
       "      <td>-10'158'499.20</td>\n",
       "    </tr>\n",
       "    <tr>\n",
       "      <th>18</th>\n",
       "      <td>492 Intern verrechnete Abschreibungen</td>\n",
       "      <td>-3'799'164.98</td>\n",
       "      <td>-3'790'313.00</td>\n",
       "      <td>-3'628'436.00</td>\n",
       "    </tr>\n",
       "  </tbody>\n",
       "</table>\n",
       "<p>102 rows × 4 columns</p>\n",
       "</div>"
      ],
      "text/plain": [
       "                                       Type   Rechnung 2005     Budget 2005   \n",
       "0                             Nettoergebnis            0.00          0.00.1  \\\n",
       "1                        30 Personalaufwand  287'409'820.07  289'731'702.86   \n",
       "2    300 Personalaufw.Behörden/Kommissionen    2'151'979.60    2'220'426.54   \n",
       "3   301 Löhne Verwaltungs-/Betriebspersonal  233'559'984.28  236'494'605.65   \n",
       "4                  302 Löhne der Lehrkräfte       38'415.85        5'000.00   \n",
       "..                                      ...             ...             ...   \n",
       "14  480 Entnahmen aus Spezialfinanzierungen   -5'235'151.80     -324'645.28   \n",
       "15                 49 Interne Verrechnungen  -45'424'876.78  -44'176'538.96   \n",
       "16          490 Intern verrechneter Aufwand  -31'658'822.28  -30'094'572.96   \n",
       "17      491 Intern verrechnete Passivzinsen   -9'966'889.52  -10'291'653.00   \n",
       "18    492 Intern verrechnete Abschreibungen   -3'799'164.98   -3'790'313.00   \n",
       "\n",
       "     Rechnung 2004  \n",
       "0           0.00.2  \n",
       "1   276'038'513.98  \n",
       "2     2'930'023.80  \n",
       "3   224'251'160.52  \n",
       "4        26'819.35  \n",
       "..             ...  \n",
       "14     -915'201.00  \n",
       "15  -40'839'106.34  \n",
       "16  -27'052'171.14  \n",
       "17  -10'158'499.20  \n",
       "18   -3'628'436.00  \n",
       "\n",
       "[102 rows x 4 columns]"
      ]
     },
     "execution_count": 21,
     "metadata": {},
     "output_type": "execute_result"
    }
   ],
   "source": [
    "df"
   ]
  },
  {
   "attachments": {},
   "cell_type": "markdown",
   "metadata": {},
   "source": [
    "#### Looks good. Now it can be added in a compact form to bern_data_extraction.py"
   ]
  },
  {
   "cell_type": "code",
   "execution_count": null,
   "metadata": {},
   "outputs": [],
   "source": []
  }
 ],
 "metadata": {
  "kernelspec": {
   "display_name": "Python 3",
   "language": "python",
   "name": "python3"
  },
  "language_info": {
   "codemirror_mode": {
    "name": "ipython",
    "version": 3
   },
   "file_extension": ".py",
   "mimetype": "text/x-python",
   "name": "python",
   "nbconvert_exporter": "python",
   "pygments_lexer": "ipython3",
   "version": "3.10.4"
  },
  "orig_nbformat": 4
 },
 "nbformat": 4,
 "nbformat_minor": 2
}
