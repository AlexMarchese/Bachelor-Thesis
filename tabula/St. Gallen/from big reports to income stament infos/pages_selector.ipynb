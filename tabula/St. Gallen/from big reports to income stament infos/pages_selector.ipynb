{
 "cells": [
  {
   "attachments": {},
   "cell_type": "markdown",
   "metadata": {},
   "source": [
    "# Extracting the relevant pages from the PDF"
   ]
  },
  {
   "cell_type": "code",
   "execution_count": 6,
   "metadata": {},
   "outputs": [],
   "source": [
    "# importing required modules\n",
    "from PyPDF2 import PdfReader, PdfWriter"
   ]
  },
  {
   "cell_type": "code",
   "execution_count": 7,
   "metadata": {},
   "outputs": [],
   "source": [
    "# creating a pdf reader object\n",
    "reader = PdfReader('2022 Rechnung.pdf')"
   ]
  },
  {
   "cell_type": "code",
   "execution_count": 8,
   "metadata": {},
   "outputs": [
    {
     "name": "stdout",
     "output_type": "stream",
     "text": [
      "206\n"
     ]
    }
   ],
   "source": [
    "# finding the page with the \"Inhaltsverzeichnis\" (table of contents)\n",
    "\n",
    "number_of_pages = len(reader.pages)\n",
    "page_ihv = 0\n",
    "\n",
    "print(number_of_pages)\n",
    "\n",
    "for page_number in range(number_of_pages): # number_of_pages\n",
    "    page = reader.pages[page_number]\n",
    "    text = page.extract_text()\n",
    "\n",
    "    if \"Inhaltsverzeichnis\" in text:\n",
    "        page_ihv = page_number\n",
    "        break"
   ]
  },
  {
   "attachments": {},
   "cell_type": "markdown",
   "metadata": {},
   "source": [
    "#### Finding the number of pages of the PDF part that are of interest to us. We look for the number of pages that the \"Inhaltsverzeichnis\" tells us.\n",
    "#### I have a string with all the content of the \"Inahltsverzeichnis\" page. I look for the page number (first digit in the string till the last digit before non digits are coming aka. \"start\") indicated after the first expression that contains the words \"Aufwand\" and \"Ertrag\". \n",
    "#### I also look up the next digit indicated in the string till the last digit before non digits are coming (aka. \"end\" + 1).\n",
    "#### Once I know these two numbers, I am able to automatically extract the pages of interest."
   ]
  },
  {
   "cell_type": "code",
   "execution_count": 9,
   "metadata": {},
   "outputs": [
    {
     "name": "stdout",
     "output_type": "stream",
     "text": [
      "2\n"
     ]
    }
   ],
   "source": [
    "# getting the content of the \"Inhaltsverzeichnis\" page\n",
    "content_ihv = reader.pages[page_ihv].extract_text()\n",
    "\n",
    "\n",
    "# this content is of type string\n",
    "# print(type(content_ihv))\n",
    "\n",
    "\n",
    "# now we need the relevant spots. So I keep the characters that remain after the first occurrence of \"Aufwand\"\n",
    "content_ihv = content_ihv.split(\"Aufwand\")[1]\n",
    "\n",
    "\n",
    "### The following code looks up the page numbers\n",
    "start = \"\"\n",
    "end = \"\"\n",
    "\n",
    "# looking up the start page (looping until I encounter a digit) and saving the characters up to this first digit\n",
    "shortened = \"\"\n",
    "for position in range(len(content_ihv)):\n",
    "    if content_ihv[position].isdigit():\n",
    "        start += content_ihv[position]\n",
    "        if not content_ihv[position + 1].isdigit():\n",
    "            break\n",
    "    \n",
    "    shortened += content_ihv[position]\n",
    "\n",
    "# the characters saved before in \"shortened\" are needed to check that also the words \"Ertrag\" and \"lle\" (from \"Alle\" or \"alle\") appear between \"Aufwand\" and the digit\n",
    "# this way we are sure to have gone for the right expression and respectively right page number\n",
    "if \"Ertrag\" and \"lle\" not in shortened:\n",
    "    raise Exception(\"Parsing error\")\n",
    "\n",
    "# looping through the remaining characters, till we get the next digit\n",
    "remainder = content_ihv.split(start)[1] \n",
    "\n",
    "\n",
    "for position in range(len(remainder)):\n",
    "    if remainder[position].isdigit():\n",
    "        end += remainder[position]\n",
    "        if not remainder[position + 1].isdigit():\n",
    "            break\n",
    "\n",
    "# that next digit - 1 gives us the last page of the PDF pages of interest to us\n",
    "end = str(int(end) - 1)\n",
    "\n",
    "# according to the \"Inhaltsverzeichnis\", it's page is number 1 (visible by having a look at the pdf). Let's see what our index of that page is\n",
    "print(page_ihv) # 2 for us -> therefore we need to add that difference (\"page_ihv\" - 1) to both the \"start\" & \"end\" parameters\n",
    "\n",
    "start = int(start) + page_ihv - 1\n",
    "end = int(end) + page_ihv - 1"
   ]
  },
  {
   "cell_type": "code",
   "execution_count": 11,
   "metadata": {},
   "outputs": [],
   "source": [
    "# it sorts out the useful pages, given the start and ending point and ignores empty / semi empty pages (<50 characters)\n",
    "\n",
    "writer = PdfWriter()\n",
    "\n",
    "export = open('2022 SG reduced.pdf', 'wb')\n",
    "\n",
    "# looping through the pages needed\n",
    "for page in range(start, end + 1):\n",
    "\n",
    "    content = reader.pages[page].extract_text()\n",
    "\n",
    "    if len(content) < 50: # to ignore empty / semiempty pages\n",
    "        continue\n",
    "    # print(len(content))\n",
    "\n",
    "    writer.add_page(reader.pages[page])\n",
    "\n",
    "# export the right pages\n",
    "writer.write(export)\n",
    "export.close()"
   ]
  },
  {
   "cell_type": "code",
   "execution_count": null,
   "metadata": {},
   "outputs": [],
   "source": []
  }
 ],
 "metadata": {
  "kernelspec": {
   "display_name": "Python 3",
   "language": "python",
   "name": "python3"
  },
  "language_info": {
   "codemirror_mode": {
    "name": "ipython",
    "version": 3
   },
   "file_extension": ".py",
   "mimetype": "text/x-python",
   "name": "python",
   "nbconvert_exporter": "python",
   "pygments_lexer": "ipython3",
   "version": "3.10.4"
  },
  "orig_nbformat": 4
 },
 "nbformat": 4,
 "nbformat_minor": 2
}
